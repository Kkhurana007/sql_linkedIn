{
 "cells": [
  {
   "cell_type": "code",
   "execution_count": 5,
   "id": "8333d5e9",
   "metadata": {},
   "outputs": [
    {
     "name": "stdout",
     "output_type": "stream",
     "text": [
      "SQLite operational error: unable to open database file\n"
     ]
    },
    {
     "ename": "UnboundLocalError",
     "evalue": "local variable 'cur' referenced before assignment",
     "output_type": "error",
     "traceback": [
      "\u001b[1;31m---------------------------------------------------------------------------\u001b[0m",
      "\u001b[1;31mUnboundLocalError\u001b[0m                         Traceback (most recent call last)",
      "Cell \u001b[1;32mIn[5], line 29\u001b[0m\n\u001b[0;32m     26\u001b[0m         db\u001b[38;5;241m.\u001b[39mclose()\n\u001b[0;32m     28\u001b[0m \u001b[38;5;28;01mif\u001b[39;00m \u001b[38;5;18m__name__\u001b[39m \u001b[38;5;241m==\u001b[39m \u001b[38;5;124m\"\u001b[39m\u001b[38;5;124m__main__\u001b[39m\u001b[38;5;124m\"\u001b[39m:\n\u001b[1;32m---> 29\u001b[0m     \u001b[43mmain\u001b[49m\u001b[43m(\u001b[49m\u001b[43m)\u001b[49m\n",
      "Cell \u001b[1;32mIn[5], line 25\u001b[0m, in \u001b[0;36mmain\u001b[1;34m()\u001b[0m\n\u001b[0;32m     23\u001b[0m     \u001b[38;5;28mprint\u001b[39m(\u001b[38;5;124mf\u001b[39m\u001b[38;5;124m\"\u001b[39m\u001b[38;5;124mSQLite operational error: \u001b[39m\u001b[38;5;132;01m{\u001b[39;00me\u001b[38;5;132;01m}\u001b[39;00m\u001b[38;5;124m\"\u001b[39m)\n\u001b[0;32m     24\u001b[0m \u001b[38;5;28;01mfinally\u001b[39;00m:\n\u001b[1;32m---> 25\u001b[0m     \u001b[43mcur\u001b[49m\u001b[38;5;241m.\u001b[39mclose()\n\u001b[0;32m     26\u001b[0m     db\u001b[38;5;241m.\u001b[39mclose()\n",
      "\u001b[1;31mUnboundLocalError\u001b[0m: local variable 'cur' referenced before assignment"
     ]
    }
   ],
   "source": [
    "import sqlite3\n",
    "\n",
    "def main():\n",
    "    try:\n",
    "        db = sqlite3.connect(\"ExerciseFiles\\\\sql\\\\scratch.db\")\n",
    "        cur = db.cursor()\n",
    "\n",
    "        cur.execute(\"DROP TABLE IF EXISTS temp\")\n",
    "        cur.execute(\"CREATE TABLE IF NOT EXISTS temp ( a TEXT, b TEXT, c TEXT )\")\n",
    "        cur.execute(\"INSERT INTO temp VALUES ('one', 'two', 'three')\")\n",
    "        cur.execute(\"INSERT INTO temp VALUES ('four', 'five', 'six')\")\n",
    "        cur.execute(\"INSERT INTO temp VALUES ('seven', 'eight', 'nine')\")\n",
    "        db.commit()\n",
    "\n",
    "        cur.execute(\"SELECT * FROM temp\")\n",
    "        row = cur.fetchone()\n",
    "        while row:\n",
    "            print(row)\n",
    "            row = cur.fetchone()\n",
    "\n",
    "        cur.execute(\"DROP TABLE IF EXISTS temp\")\n",
    "    except sqlite3.OperationalError as e:\n",
    "        print(f\"SQLite operational error: {e}\")\n",
    "    finally:\n",
    "        cur.close()\n",
    "        db.close()\n",
    "\n",
    "if __name__ == \"__main__\":\n",
    "    main()\n"
   ]
  },
  {
   "cell_type": "code",
   "execution_count": 8,
   "id": "6e2cdcf3",
   "metadata": {},
   "outputs": [
    {
     "name": "stdout",
     "output_type": "stream",
     "text": [
      "SQLite operational error: unable to open database file\n"
     ]
    }
   ],
   "source": [
    "import sqlite3\n",
    "\n",
    "def main():\n",
    "    db = None\n",
    "    cur = None\n",
    "    try:\n",
    "        db = sqlite3.connect(\"ExerciseFiles/sql/scratch-mysql.sql\")\n",
    "        cur = db.cursor()\n",
    "\n",
    "        cur.execute(\"DROP TABLE IF EXISTS temp\")\n",
    "        cur.execute(\"CREATE TABLE IF NOT EXISTS temp ( a TEXT, b TEXT, c TEXT )\")\n",
    "        cur.execute(\"INSERT INTO temp VALUES ('one', 'two', 'three')\")\n",
    "        cur.execute(\"INSERT INTO temp VALUES ('four', 'five', 'six')\")\n",
    "        cur.execute(\"INSERT INTO temp VALUES ('seven', 'eight', 'nine')\")\n",
    "        db.commit()\n",
    "\n",
    "        cur.execute(\"SELECT * FROM temp\")\n",
    "        row = cur.fetchone()\n",
    "        while row:\n",
    "            print(row)\n",
    "            row = cur.fetchone()\n",
    "\n",
    "        cur.execute(\"DROP TABLE IF EXISTS temp\")\n",
    "\n",
    "    except sqlite3.OperationalError as e:\n",
    "        print(f\"SQLite operational error: {e}\")\n",
    "    finally:\n",
    "        if cur:\n",
    "            cur.close()\n",
    "        if db:\n",
    "            db.close()\n",
    "\n",
    "if __name__ == \"__main__\":\n",
    "    main()\n"
   ]
  },
  {
   "cell_type": "code",
   "execution_count": null,
   "id": "321ea8b1",
   "metadata": {},
   "outputs": [],
   "source": []
  }
 ],
 "metadata": {
  "kernelspec": {
   "display_name": "Python 3 (ipykernel)",
   "language": "python",
   "name": "python3"
  },
  "language_info": {
   "codemirror_mode": {
    "name": "ipython",
    "version": 3
   },
   "file_extension": ".py",
   "mimetype": "text/x-python",
   "name": "python",
   "nbconvert_exporter": "python",
   "pygments_lexer": "ipython3",
   "version": "3.9.13"
  }
 },
 "nbformat": 4,
 "nbformat_minor": 5
}
